{
 "cells": [
  {
   "cell_type": "code",
   "execution_count": 20,
   "metadata": {},
   "outputs": [],
   "source": [
    "import pandas as pd"
   ]
  },
  {
   "cell_type": "code",
   "execution_count": 21,
   "metadata": {},
   "outputs": [],
   "source": [
    "dfs = {}\n",
    "\n",
    "files = [\"companies\",\"emissions\",\"stocks\"]\n",
    "for file in files:\n",
    "    with open(f\"data/cleaned/{file}.csv\", \"r\") as f:\n",
    "        dfs[file] = pd.read_csv(f)\n"
   ]
  },
  {
   "cell_type": "code",
   "execution_count": 22,
   "metadata": {},
   "outputs": [],
   "source": [
    "company_map = dfs[\"companies\"][[\"name\",\"code\"]]\n",
    "company_map.to_csv(\"data/3NF/name_code_map.csv\", index = False)"
   ]
  },
  {
   "cell_type": "code",
   "execution_count": 23,
   "metadata": {},
   "outputs": [],
   "source": [
    "emissions = dfs[\"emissions\"]\n",
    "emissions.to_csv(\"data/3NF/emissions.csv\", index = False)"
   ]
  },
  {
   "cell_type": "code",
   "execution_count": 24,
   "metadata": {},
   "outputs": [],
   "source": [
    "stocks = dfs[\"stocks\"]\n",
    "stocks.to_csv(\"data/3NF/stocks.csv\", index = False)"
   ]
  },
  {
   "cell_type": "code",
   "execution_count": 25,
   "metadata": {},
   "outputs": [],
   "source": [
    "companies = dfs[\"companies\"][[\"name\",\"revenue_22_23_USD_e9\",\"market_cap_USD_e12\",\"emp_num\",\n",
    "                              \"founded\",\"incomeTax_22_23_USD_e9\",\"sector\",\"state\"]]\n",
    "companies.to_csv(\"data/3NF/companies.csv\", index = False)"
   ]
  }
 ],
 "metadata": {
  "kernelspec": {
   "display_name": "Python 3",
   "language": "python",
   "name": "python3"
  },
  "language_info": {
   "codemirror_mode": {
    "name": "ipython",
    "version": 3
   },
   "file_extension": ".py",
   "mimetype": "text/x-python",
   "name": "python",
   "nbconvert_exporter": "python",
   "pygments_lexer": "ipython3",
   "version": "3.10.13"
  }
 },
 "nbformat": 4,
 "nbformat_minor": 2
}
