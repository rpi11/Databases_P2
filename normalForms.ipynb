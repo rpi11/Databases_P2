{
 "cells": [
  {
   "cell_type": "markdown",
   "metadata": {},
   "source": [
    "# Project 2 Normal Forms\n",
    "Authors: Lily Geiser, Meredith Lou, Rich Pihlstrom"
   ]
  },
  {
   "cell_type": "markdown",
   "metadata": {},
   "source": [
    "In this section, we will walk through how we are splitting our data into 3rd Normal Form. There is not a lot of complexity to this step, so this will be more like an annotation of the column selection."
   ]
  },
  {
   "cell_type": "markdown",
   "metadata": {},
   "source": [
    "## Read Files"
   ]
  },
  {
   "cell_type": "code",
   "execution_count": 6,
   "metadata": {},
   "outputs": [],
   "source": [
    "import pandas as pd"
   ]
  },
  {
   "cell_type": "code",
   "execution_count": 7,
   "metadata": {},
   "outputs": [],
   "source": [
    "dfs = {}\n",
    "\n",
    "files = [\"companies\",\"emissions\",\"stocks\"]\n",
    "for file in files:\n",
    "    with open(f\"data/cleaned/{file}.csv\", \"r\") as f:\n",
    "        dfs[file] = pd.read_csv(f)\n"
   ]
  },
  {
   "cell_type": "markdown",
   "metadata": {},
   "source": [
    "## Company name-code mapping\n",
    "This dataset is the only instance where we are not keeping the bulk of a single dataset together. In our companies dataset, there is a column for both the company name and the stock code. Given that both of these are able to identify a company independently, this would mean that data would be dependent on another column other than the primary key—if the key was one of the two columns. With this, we create an additional dataset that maps company names to codes, and then just keep one of the two \"name\" or \"code\" columns for the other company-related columns. As this is a direct mapping, we arbitraily choose one of the the columns as the key."
   ]
  },
  {
   "cell_type": "markdown",
   "metadata": {},
   "source": [
    "### Company_map, key = [name]"
   ]
  },
  {
   "cell_type": "code",
   "execution_count": 8,
   "metadata": {},
   "outputs": [
    {
     "data": {
      "text/html": [
       "<div>\n",
       "<style scoped>\n",
       "    .dataframe tbody tr th:only-of-type {\n",
       "        vertical-align: middle;\n",
       "    }\n",
       "\n",
       "    .dataframe tbody tr th {\n",
       "        vertical-align: top;\n",
       "    }\n",
       "\n",
       "    .dataframe thead th {\n",
       "        text-align: right;\n",
       "    }\n",
       "</style>\n",
       "<table border=\"1\" class=\"dataframe\">\n",
       "  <thead>\n",
       "    <tr style=\"text-align: right;\">\n",
       "      <th></th>\n",
       "      <th>name</th>\n",
       "      <th>code</th>\n",
       "    </tr>\n",
       "  </thead>\n",
       "  <tbody>\n",
       "    <tr>\n",
       "      <th>0</th>\n",
       "      <td>apple inc.</td>\n",
       "      <td>aapl</td>\n",
       "    </tr>\n",
       "    <tr>\n",
       "      <th>1</th>\n",
       "      <td>microsoft corporation</td>\n",
       "      <td>msft</td>\n",
       "    </tr>\n",
       "    <tr>\n",
       "      <th>2</th>\n",
       "      <td>alphabet (google)</td>\n",
       "      <td>goog</td>\n",
       "    </tr>\n",
       "    <tr>\n",
       "      <th>3</th>\n",
       "      <td>amazon</td>\n",
       "      <td>amzn</td>\n",
       "    </tr>\n",
       "    <tr>\n",
       "      <th>4</th>\n",
       "      <td>nvidia corporation</td>\n",
       "      <td>nvda</td>\n",
       "    </tr>\n",
       "  </tbody>\n",
       "</table>\n",
       "</div>"
      ],
      "text/plain": [
       "                    name  code\n",
       "0             apple inc.  aapl\n",
       "1  microsoft corporation  msft\n",
       "2      alphabet (google)  goog\n",
       "3                 amazon  amzn\n",
       "4     nvidia corporation  nvda"
      ]
     },
     "execution_count": 8,
     "metadata": {},
     "output_type": "execute_result"
    }
   ],
   "source": [
    "company_map = dfs[\"companies\"][[\"name\",\"code\"]]\n",
    "company_map.to_csv(\"data/3NF/name_code_map.csv\", index = False)\n",
    "company_map.head()"
   ]
  },
  {
   "cell_type": "markdown",
   "metadata": {},
   "source": [
    "## Company dataset\n",
    "\n",
    "With the map file created above, we can then drop either \"name\" or \"column\" from our company data. Given that this dataset contains company information, rather than stock information, we opted keep the \"name\" column. All of the other data is about each specific company, so we can select \"name\" to be our key."
   ]
  },
  {
   "cell_type": "markdown",
   "metadata": {},
   "source": [
    "### Companies, key = [name]"
   ]
  },
  {
   "cell_type": "code",
   "execution_count": 9,
   "metadata": {},
   "outputs": [
    {
     "data": {
      "text/html": [
       "<div>\n",
       "<style scoped>\n",
       "    .dataframe tbody tr th:only-of-type {\n",
       "        vertical-align: middle;\n",
       "    }\n",
       "\n",
       "    .dataframe tbody tr th {\n",
       "        vertical-align: top;\n",
       "    }\n",
       "\n",
       "    .dataframe thead th {\n",
       "        text-align: right;\n",
       "    }\n",
       "</style>\n",
       "<table border=\"1\" class=\"dataframe\">\n",
       "  <thead>\n",
       "    <tr style=\"text-align: right;\">\n",
       "      <th></th>\n",
       "      <th>name</th>\n",
       "      <th>revenue_22_23_USD_e9</th>\n",
       "      <th>market_cap_USD_e12</th>\n",
       "      <th>emp_num</th>\n",
       "      <th>founded</th>\n",
       "      <th>incomeTax_22_23_USD_e9</th>\n",
       "      <th>sector</th>\n",
       "      <th>state</th>\n",
       "    </tr>\n",
       "  </thead>\n",
       "  <tbody>\n",
       "    <tr>\n",
       "      <th>0</th>\n",
       "      <td>apple inc.</td>\n",
       "      <td>387.53</td>\n",
       "      <td>2.520</td>\n",
       "      <td>164000</td>\n",
       "      <td>1976</td>\n",
       "      <td>18.314</td>\n",
       "      <td>consumer electronics</td>\n",
       "      <td>california</td>\n",
       "    </tr>\n",
       "    <tr>\n",
       "      <th>1</th>\n",
       "      <td>microsoft corporation</td>\n",
       "      <td>204.09</td>\n",
       "      <td>2.037</td>\n",
       "      <td>221000</td>\n",
       "      <td>1975</td>\n",
       "      <td>15.139</td>\n",
       "      <td>software infrastructure</td>\n",
       "      <td>washington</td>\n",
       "    </tr>\n",
       "    <tr>\n",
       "      <th>2</th>\n",
       "      <td>alphabet (google)</td>\n",
       "      <td>282.83</td>\n",
       "      <td>1.350</td>\n",
       "      <td>190234</td>\n",
       "      <td>1998</td>\n",
       "      <td>11.356</td>\n",
       "      <td>software infrastructure</td>\n",
       "      <td>california</td>\n",
       "    </tr>\n",
       "    <tr>\n",
       "      <th>3</th>\n",
       "      <td>amazon</td>\n",
       "      <td>513.98</td>\n",
       "      <td>1.030</td>\n",
       "      <td>1541000</td>\n",
       "      <td>1994</td>\n",
       "      <td>-3.217</td>\n",
       "      <td>software application</td>\n",
       "      <td>washington</td>\n",
       "    </tr>\n",
       "    <tr>\n",
       "      <th>4</th>\n",
       "      <td>nvidia corporation</td>\n",
       "      <td>26.97</td>\n",
       "      <td>0.653</td>\n",
       "      <td>22473</td>\n",
       "      <td>1993</td>\n",
       "      <td>0.189</td>\n",
       "      <td>semiconductors</td>\n",
       "      <td>california</td>\n",
       "    </tr>\n",
       "  </tbody>\n",
       "</table>\n",
       "</div>"
      ],
      "text/plain": [
       "                    name  revenue_22_23_USD_e9  market_cap_USD_e12  emp_num  \\\n",
       "0             apple inc.                387.53               2.520   164000   \n",
       "1  microsoft corporation                204.09               2.037   221000   \n",
       "2      alphabet (google)                282.83               1.350   190234   \n",
       "3                 amazon                513.98               1.030  1541000   \n",
       "4     nvidia corporation                 26.97               0.653    22473   \n",
       "\n",
       "   founded  incomeTax_22_23_USD_e9                   sector       state  \n",
       "0     1976                  18.314     consumer electronics  california  \n",
       "1     1975                  15.139  software infrastructure  washington  \n",
       "2     1998                  11.356  software infrastructure  california  \n",
       "3     1994                  -3.217     software application  washington  \n",
       "4     1993                   0.189           semiconductors  california  "
      ]
     },
     "execution_count": 9,
     "metadata": {},
     "output_type": "execute_result"
    }
   ],
   "source": [
    "companies = dfs[\"companies\"][[\"name\",\"revenue_22_23_USD_e9\",\"market_cap_USD_e12\",\"emp_num\",\n",
    "                              \"founded\",\"incomeTax_22_23_USD_e9\",\"sector\",\"state\"]]\n",
    "companies.to_csv(\"data/3NF/companies.csv\", index = False)\n",
    "companies.head()"
   ]
  },
  {
   "cell_type": "markdown",
   "metadata": {},
   "source": [
    "## Stock data\n",
    "\n",
    "Similar to the company data, the rows of the stock data are independent for each company. However, unlike the company data, the stock data is aggregated to a yearly granularity. As such, we must consider both the company code and the year for each row."
   ]
  },
  {
   "cell_type": "markdown",
   "metadata": {},
   "source": [
    "### Stocks, key = [code, year]"
   ]
  },
  {
   "cell_type": "code",
   "execution_count": 10,
   "metadata": {},
   "outputs": [
    {
     "data": {
      "text/html": [
       "<div>\n",
       "<style scoped>\n",
       "    .dataframe tbody tr th:only-of-type {\n",
       "        vertical-align: middle;\n",
       "    }\n",
       "\n",
       "    .dataframe tbody tr th {\n",
       "        vertical-align: top;\n",
       "    }\n",
       "\n",
       "    .dataframe thead th {\n",
       "        text-align: right;\n",
       "    }\n",
       "</style>\n",
       "<table border=\"1\" class=\"dataframe\">\n",
       "  <thead>\n",
       "    <tr style=\"text-align: right;\">\n",
       "      <th></th>\n",
       "      <th>code</th>\n",
       "      <th>year</th>\n",
       "      <th>high</th>\n",
       "      <th>low</th>\n",
       "      <th>change_in_close</th>\n",
       "    </tr>\n",
       "  </thead>\n",
       "  <tbody>\n",
       "    <tr>\n",
       "      <th>0</th>\n",
       "      <td>aapl</td>\n",
       "      <td>2010</td>\n",
       "      <td>11.666429</td>\n",
       "      <td>6.794643</td>\n",
       "      <td>3.876786</td>\n",
       "    </tr>\n",
       "    <tr>\n",
       "      <th>1</th>\n",
       "      <td>aapl</td>\n",
       "      <td>2011</td>\n",
       "      <td>15.239286</td>\n",
       "      <td>11.089286</td>\n",
       "      <td>2.693929</td>\n",
       "    </tr>\n",
       "    <tr>\n",
       "      <th>2</th>\n",
       "      <td>aapl</td>\n",
       "      <td>2012</td>\n",
       "      <td>25.181070</td>\n",
       "      <td>14.607143</td>\n",
       "      <td>4.319285</td>\n",
       "    </tr>\n",
       "    <tr>\n",
       "      <th>3</th>\n",
       "      <td>aapl</td>\n",
       "      <td>2013</td>\n",
       "      <td>20.540714</td>\n",
       "      <td>13.753571</td>\n",
       "      <td>0.428215</td>\n",
       "    </tr>\n",
       "    <tr>\n",
       "      <th>4</th>\n",
       "      <td>aapl</td>\n",
       "      <td>2014</td>\n",
       "      <td>29.937500</td>\n",
       "      <td>17.626785</td>\n",
       "      <td>7.840357</td>\n",
       "    </tr>\n",
       "  </tbody>\n",
       "</table>\n",
       "</div>"
      ],
      "text/plain": [
       "   code  year       high        low  change_in_close\n",
       "0  aapl  2010  11.666429   6.794643         3.876786\n",
       "1  aapl  2011  15.239286  11.089286         2.693929\n",
       "2  aapl  2012  25.181070  14.607143         4.319285\n",
       "3  aapl  2013  20.540714  13.753571         0.428215\n",
       "4  aapl  2014  29.937500  17.626785         7.840357"
      ]
     },
     "execution_count": 10,
     "metadata": {},
     "output_type": "execute_result"
    }
   ],
   "source": [
    "stocks = dfs[\"stocks\"]\n",
    "stocks.to_csv(\"data/3NF/stocks.csv\", index = False)\n",
    "stocks.head()"
   ]
  },
  {
   "cell_type": "markdown",
   "metadata": {},
   "source": [
    "## Emissions data\n",
    "\n",
    "Like with the stock data, we are looking at yearly information across various states. We handle this similarly by considering both the state and the year as the key."
   ]
  },
  {
   "cell_type": "markdown",
   "metadata": {},
   "source": [
    "### Emissions, key = [state, year]"
   ]
  },
  {
   "cell_type": "code",
   "execution_count": 11,
   "metadata": {},
   "outputs": [
    {
     "data": {
      "text/html": [
       "<div>\n",
       "<style scoped>\n",
       "    .dataframe tbody tr th:only-of-type {\n",
       "        vertical-align: middle;\n",
       "    }\n",
       "\n",
       "    .dataframe tbody tr th {\n",
       "        vertical-align: top;\n",
       "    }\n",
       "\n",
       "    .dataframe thead th {\n",
       "        text-align: right;\n",
       "    }\n",
       "</style>\n",
       "<table border=\"1\" class=\"dataframe\">\n",
       "  <thead>\n",
       "    <tr style=\"text-align: right;\">\n",
       "      <th></th>\n",
       "      <th>state</th>\n",
       "      <th>year</th>\n",
       "      <th>emissions_per_cap</th>\n",
       "    </tr>\n",
       "  </thead>\n",
       "  <tbody>\n",
       "    <tr>\n",
       "      <th>0</th>\n",
       "      <td>alabama</td>\n",
       "      <td>1970</td>\n",
       "      <td>29.7</td>\n",
       "    </tr>\n",
       "    <tr>\n",
       "      <th>1</th>\n",
       "      <td>alaska</td>\n",
       "      <td>1970</td>\n",
       "      <td>37.3</td>\n",
       "    </tr>\n",
       "    <tr>\n",
       "      <th>2</th>\n",
       "      <td>arizona</td>\n",
       "      <td>1970</td>\n",
       "      <td>13.9</td>\n",
       "    </tr>\n",
       "    <tr>\n",
       "      <th>3</th>\n",
       "      <td>arkansas</td>\n",
       "      <td>1970</td>\n",
       "      <td>18.7</td>\n",
       "    </tr>\n",
       "    <tr>\n",
       "      <th>4</th>\n",
       "      <td>california</td>\n",
       "      <td>1970</td>\n",
       "      <td>14.7</td>\n",
       "    </tr>\n",
       "  </tbody>\n",
       "</table>\n",
       "</div>"
      ],
      "text/plain": [
       "        state  year  emissions_per_cap\n",
       "0     alabama  1970               29.7\n",
       "1      alaska  1970               37.3\n",
       "2     arizona  1970               13.9\n",
       "3    arkansas  1970               18.7\n",
       "4  california  1970               14.7"
      ]
     },
     "execution_count": 11,
     "metadata": {},
     "output_type": "execute_result"
    }
   ],
   "source": [
    "emissions = dfs[\"emissions\"]\n",
    "emissions.to_csv(\"data/3NF/emissions.csv\", index = False)\n",
    "emissions.head()"
   ]
  }
 ],
 "metadata": {
  "kernelspec": {
   "display_name": "Python 3",
   "language": "python",
   "name": "python3"
  },
  "language_info": {
   "codemirror_mode": {
    "name": "ipython",
    "version": 3
   },
   "file_extension": ".py",
   "mimetype": "text/x-python",
   "name": "python",
   "nbconvert_exporter": "python",
   "pygments_lexer": "ipython3",
   "version": "3.10.13"
  }
 },
 "nbformat": 4,
 "nbformat_minor": 2
}
